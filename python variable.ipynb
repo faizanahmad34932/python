{
 "cells": [
  {
   "cell_type": "markdown",
   "id": "7adbcbab-e674-4aa0-8b52-aff06e4ec39a",
   "metadata": {},
   "source": [
    "Q1. Write all the conventions being followed while declaring a variable."
   ]
  },
  {
   "cell_type": "markdown",
   "id": "61f92280-42a4-469d-9177-667cd1d93df5",
   "metadata": {},
   "source": [
    "Use Descriptive Names: Choose variable names that are descriptive of the data they store. This makes your code more understandable.\n",
    "\n",
    "Use Lowercase: Variable names should be in lowercase letters. For example, my_variable.\n",
    "\n",
    "Use Underscores for Multiple Words: If a variable name consists of multiple words, separate them using underscores. For example, my_variable_name.\n",
    "\n",
    "Avoid Starting with Numbers: Variable names should not start with a number. They can contain numbers, but the first character should be a letter or an underscore.\n",
    "\n",
    "Avoid Using Special Characters: Variable names should not contain spaces or special characters (e.g., !, @, #, $, %). The only exception is underscores.\n",
    "\n",
    "Avoid Python Reserved Words: Do not use Python's reserved words (keywords) as variable names. Examples of reserved words include if, else, while, for, True, False, None, and others.\n",
    "\n",
    "Use Meaningful Names: Choose variable names that convey the purpose or meaning of the data they hold. For instance, use counter instead of c, or total_score instead of ts.\n",
    "\n",
    "Follow PEP 8: PEP 8 is the Python Enhancement Proposal that provides style guide recommendations for Python code. It includes naming conventions. Adhering to PEP 8 can help ensure consistency in your code.\n",
    "\n",
    "Use CamelCase for Classes: In Python, class names should use CamelCase, where each word is capitalized without spaces. For example, MyClass.\n",
    "\n",
    "Constants in Uppercase: If you have constants, use uppercase letters with underscores to separate words. For example, MAX_VALUE.\n",
    "\n",
    "Following these conventions makes your code more readable and helps maintain consistency in Python programming.\n",
    "\n",
    "\n",
    "\n",
    "\n"
   ]
  },
  {
   "cell_type": "markdown",
   "id": "39eb49f8-c616-46f9-a783-843a48209b42",
   "metadata": {},
   "source": [
    "Q2. What will happen if we declare a restricted keyword as a variable?"
   ]
  },
  {
   "cell_type": "markdown",
   "id": "70c4a889-8ce6-45f5-a11e-4ce7bbb75523",
   "metadata": {},
   "source": [
    "if = 10  # This will result in a syntax error\n"
   ]
  },
  {
   "cell_type": "markdown",
   "id": "b845a1ae-7d93-4d33-9ff8-b666862273e6",
   "metadata": {},
   "source": [
    "Q3. Can we actually declare a string as a variable name?"
   ]
  },
  {
   "cell_type": "code",
   "execution_count": 2,
   "id": "47b7523d-4ab5-43e5-bc27-cc0b8dec58d1",
   "metadata": {},
   "outputs": [
    {
     "name": "stdout",
     "output_type": "stream",
     "text": [
      "Hello, World!\n"
     ]
    }
   ],
   "source": [
    "variable_name = \"Hello, World!\"\n",
    "print(variable_name)\n"
   ]
  },
  {
   "cell_type": "markdown",
   "id": "d0a1c245-4ffb-499b-a67f-bf20c0ff6cc5",
   "metadata": {},
   "source": [
    "variable_name = \"Hello, World!\"\n",
    "print(variable_name)\n"
   ]
  },
  {
   "cell_type": "markdown",
   "id": "e1758cc5-1992-480b-9cf2-e9205b0cea91",
   "metadata": {},
   "source": [
    "Q4. Is it possible for us to declare “_” as a variable? If so, then write an example of it."
   ]
  },
  {
   "cell_type": "code",
   "execution_count": 3,
   "id": "a04a2e6a-ef3b-4fdd-b0bf-398376a21621",
   "metadata": {},
   "outputs": [
    {
     "name": "stdout",
     "output_type": "stream",
     "text": [
      "42\n"
     ]
    }
   ],
   "source": [
    "_ = 42\n",
    "print(_)\n"
   ]
  },
  {
   "cell_type": "markdown",
   "id": "8d882ff4-9d8c-4bc2-a8b2-12a5dd940853",
   "metadata": {},
   "source": [
    "Q5. Using an example, explain how the variables in python are dynamic in nature."
   ]
  },
  {
   "cell_type": "code",
   "execution_count": 4,
   "id": "737807b1-031e-450b-af36-c4cad012227f",
   "metadata": {},
   "outputs": [
    {
     "name": "stdout",
     "output_type": "stream",
     "text": [
      "x: 10 Type: <class 'int'>\n",
      "x: Hello, World! Type: <class 'str'>\n",
      "x: [1, 2, 3, 4, 5] Type: <class 'list'>\n"
     ]
    }
   ],
   "source": [
    "# Initially, x is an integer\n",
    "x = 10\n",
    "print(\"x:\", x, \"Type:\", type(x))\n",
    "\n",
    "# Now, x is assigned a string value\n",
    "x = \"Hello, World!\"\n",
    "print(\"x:\", x, \"Type:\", type(x))\n",
    "\n",
    "# Next, x is assigned a list\n",
    "x = [1, 2, 3, 4, 5]\n",
    "print(\"x:\", x, \"Type:\", type(x))\n"
   ]
  },
  {
   "cell_type": "code",
   "execution_count": null,
   "id": "e5e91b93-43ff-4461-b62f-18eb5ae2145b",
   "metadata": {},
   "outputs": [],
   "source": []
  }
 ],
 "metadata": {
  "kernelspec": {
   "display_name": "Python 3 (ipykernel)",
   "language": "python",
   "name": "python3"
  },
  "language_info": {
   "codemirror_mode": {
    "name": "ipython",
    "version": 3
   },
   "file_extension": ".py",
   "mimetype": "text/x-python",
   "name": "python",
   "nbconvert_exporter": "python",
   "pygments_lexer": "ipython3",
   "version": "3.10.8"
  }
 },
 "nbformat": 4,
 "nbformat_minor": 5
}
